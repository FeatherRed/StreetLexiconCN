{
 "cells": [
  {
   "cell_type": "code",
   "execution_count": 29,
   "id": "3649a44a",
   "metadata": {},
   "outputs": [
    {
     "name": "stdout",
     "output_type": "stream",
     "text": [
      "广州市下级行政区有：\n",
      "('从化区', 3287298)\n",
      "('南沙区', 3287345)\n",
      "('增城区', 3287299)\n",
      "('天河区', 3987435)\n",
      "('海珠区', 3287615)\n",
      "('番禺区', 3287618)\n",
      "('白云区', 3987393)\n",
      "('花都区', 3287616)\n",
      "('荔湾区', 3287617)\n",
      "('越秀区', 3987394)\n",
      "('黄埔区', 3987437)\n"
     ]
    }
   ],
   "source": [
    "import requests\n",
    "import json\n",
    "\n",
    "city = \"广州市\"\n",
    "# Overpass API端点\n",
    "url = \"https://overpass-api.de/api/interpreter\"\n",
    "\n",
    "query = f\"\"\"\n",
    "[out:json];\n",
    "area[name=\"{city}\"]->.searchArea;\n",
    "(\n",
    "  relation(area.searchArea)[\"boundary\"=\"administrative\"][\"admin_level\"=\"6\"];\n",
    ");\n",
    "out tags;\n",
    "\"\"\"\n",
    "\n",
    "# 发送请求\n",
    "response = requests.get(url, params={'data': query})\n",
    "data = response.json()\n",
    "\n",
    "# 提取区名\n",
    "districts = set()\n",
    "for element in data['elements']:\n",
    "    if 'tags' in element and 'name' in element['tags']:\n",
    "        districts.add((element['tags']['name'], element['id']))\n",
    "\n",
    "print(f\"{city}下级行政区有：\")\n",
    "for district in sorted(districts):\n",
    "    print(district)"
   ]
  },
  {
   "cell_type": "code",
   "execution_count": 26,
   "id": "6153af1d",
   "metadata": {},
   "outputs": [
    {
     "name": "stdout",
     "output_type": "stream",
     "text": [
      "📍 番禺区下辖街道或社区：\n",
      "✅ 东环街道（admin_level=8，relation_id=12033869）\n",
      "✅ 化龙镇（admin_level=8，relation_id=12043253）\n",
      "✅ 南村镇（admin_level=8，relation_id=12034602）\n",
      "✅ 大石街道（admin_level=8，relation_id=12042955）\n",
      "✅ 大龙街道（admin_level=8，relation_id=12033891）\n",
      "✅ 小谷围街道（admin_level=8，relation_id=9463947）\n",
      "✅ 市桥街道（admin_level=8，relation_id=12031258）\n",
      "✅ 新造镇（admin_level=8，relation_id=12043044）\n",
      "✅ 桥南街道（admin_level=8，relation_id=11996533）\n",
      "✅ 沙头街道（admin_level=8，relation_id=12032052）\n",
      "✅ 沙湾街道（admin_level=8，relation_id=12032277）\n",
      "✅ 洛浦街道（admin_level=8，relation_id=9463946）\n",
      "✅ 石壁街道（admin_level=8，relation_id=12045940）\n",
      "✅ 石楼镇（admin_level=8，relation_id=12045937）\n",
      "✅ 石碁镇（admin_level=8，relation_id=12037949）\n",
      "✅ 钟村街道（admin_level=8，relation_id=12034493）\n"
     ]
    }
   ],
   "source": [
    "test_id = 3287618 + 3600000000\n",
    "test_query = f\"\"\"\n",
    "[out:json][timeout:60];\n",
    "area({test_id})->.searchArea;\n",
    "(\n",
    "  relation(area.searchArea)[\"boundary\"=\"administrative\"][\"admin_level\"~\"7|8\"];\n",
    ");\n",
    "out tags;\n",
    "\"\"\"\n",
    "\n",
    "response = requests.post(url, data={\"data\": test_query})\n",
    "data = response.json()\n",
    "\n",
    "# 提取下级行政单位（街道/社区）名称\n",
    "districts = set()\n",
    "for element in data['elements']:\n",
    "    if 'tags' in element and 'name' in element['tags']:\n",
    "        name = element['tags']['name']\n",
    "        level = element['tags'].get('admin_level', 'unknown')\n",
    "        districts.add((name, level, element['id']))\n",
    "\n",
    "# 输出\n",
    "print(\"📍 番禺区下辖街道或社区：\")\n",
    "for district in sorted(districts):\n",
    "    print(f\"✅ {district[0]}（admin_level={district[1]}，relation_id={district[2]}）\")\n"
   ]
  },
  {
   "cell_type": "code",
   "execution_count": 27,
   "id": "651f586f",
   "metadata": {},
   "outputs": [
    {
     "name": "stdout",
     "output_type": "stream",
     "text": [
      "📍 小谷围街道的前 10 条道路名称：\n",
      "1. 大学城中环西路\n",
      "2. 大学城华师一路\n",
      "3. 环校西路\n",
      "4. 大学城广大路\n",
      "5. 档案馆路\n",
      "6. 大学城外环西路\n",
      "7. 大学城内环西路\n",
      "8. 大学城环湖路\n",
      "9. 科普路\n",
      "10. 环校北路\n"
     ]
    }
   ],
   "source": [
    "# 通过街道搜路\n",
    "xiaoguwei_id = 9463947 + 3600000000\n",
    "query = f\"\"\"\n",
    "[out:json][timeout:90];\n",
    "area({xiaoguwei_id})->.searchArea;\n",
    "\n",
    "(\n",
    "  way[\"highway\"][\"name\"~\"路$|大道$|巷$|街$|道$|里$|弄$|胡同$|径$|东$|西$|北$|南$\"](area.searchArea);\n",
    ");\n",
    "out tags;\n",
    "\"\"\"\n",
    "response = requests.post(url, data={\"data\": query})\n",
    "\n",
    "data = response.json()\n",
    "road_names = []\n",
    "for element in data.get('elements', []):\n",
    "    name = element.get('tags', {}).get('name')\n",
    "    if name and name not in road_names:\n",
    "        road_names.append(name)\n",
    "    if len(road_names) >= 10:\n",
    "        break\n",
    "\n",
    "print(\"📍 小谷围街道的前 10 条道路名称：\")\n",
    "for i, road in enumerate(road_names, 1):\n",
    "    print(f\"{i}. {road}\")"
   ]
  },
  {
   "cell_type": "code",
   "execution_count": 30,
   "id": "5d1360f1",
   "metadata": {},
   "outputs": [
    {
     "name": "stdout",
     "output_type": "stream",
     "text": [
      "📍 海丰县的前 10 条道路名称：\n",
      "1. 海银路\n",
      "2. 海银公路\n",
      "3. 128县道\n",
      "4. 汕尾大道北\n",
      "5. 二环路\n",
      "6. 迎新路\n",
      "7. 解放北路\n",
      "8. 海龙路\n",
      "9. 海紫路\n",
      "10. 向阳路\n"
     ]
    }
   ],
   "source": [
    "# 如果街区没有id\n",
    "\n",
    "# 直接对区域进行查询\n",
    "haifx_id = 3282607 + 3600000000\n",
    "\n",
    "query = f\"\"\"\n",
    "[out:json][timeout:90];\n",
    "area({haifx_id})->.searchArea;\n",
    "\n",
    "(\n",
    "  way[\"highway\"][\"name\"~\"路$|大道$|巷$|街$|道$|里$|弄$|胡同$|径$|东$|西$|北$|南$\"](area.searchArea);\n",
    ");\n",
    "out tags;\n",
    "\"\"\"\n",
    "response = requests.post(url, data={\"data\": query})\n",
    "\n",
    "data = response.json()\n",
    "road_names = []\n",
    "for element in data.get('elements', []):\n",
    "    name = element.get('tags', {}).get('name')\n",
    "    if name and name not in road_names:\n",
    "        road_names.append(name)\n",
    "    if len(road_names) >= 10:\n",
    "        break\n",
    "\n",
    "print(\"📍 海丰县的前 10 条道路名称：\")\n",
    "for i, road in enumerate(road_names, 1):\n",
    "    print(f\"{i}. {road}\")"
   ]
  }
 ],
 "metadata": {
  "kernelspec": {
   "display_name": "NNclass",
   "language": "python",
   "name": "python3"
  },
  "language_info": {
   "codemirror_mode": {
    "name": "ipython",
    "version": 3
   },
   "file_extension": ".py",
   "mimetype": "text/x-python",
   "name": "python",
   "nbconvert_exporter": "python",
   "pygments_lexer": "ipython3",
   "version": "3.9.19"
  }
 },
 "nbformat": 4,
 "nbformat_minor": 5
}
